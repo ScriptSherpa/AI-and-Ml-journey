{
  "nbformat": 4,
  "nbformat_minor": 0,
  "metadata": {
    "colab": {
      "provenance": [],
      "authorship_tag": "ABX9TyPEiN/DDNYHCYzXBtm0xYL3",
      "include_colab_link": true
    },
    "kernelspec": {
      "name": "python3",
      "display_name": "Python 3"
    },
    "language_info": {
      "name": "python"
    }
  },
  "cells": [
    {
      "cell_type": "markdown",
      "metadata": {
        "id": "view-in-github",
        "colab_type": "text"
      },
      "source": [
        "<a href=\"https://colab.research.google.com/github/ScriptSherpa/AI-and-Ml-journey/blob/main/nltk__sentiment_anyalsis_.ipynb\" target=\"_parent\"><img src=\"https://colab.research.google.com/assets/colab-badge.svg\" alt=\"Open In Colab\"/></a>"
      ]
    },
    {
      "cell_type": "code",
      "execution_count": 1,
      "metadata": {
        "colab": {
          "base_uri": "https://localhost:8080/"
        },
        "id": "bHQm8XHitd6X",
        "outputId": "206306be-9a83-4da7-ddf4-e5c9256cd6e5"
      },
      "outputs": [
        {
          "output_type": "stream",
          "name": "stderr",
          "text": [
            "[nltk_data] Downloading package vader_lexicon to /root/nltk_data...\n"
          ]
        },
        {
          "output_type": "execute_result",
          "data": {
            "text/plain": [
              "True"
            ]
          },
          "metadata": {},
          "execution_count": 1
        }
      ],
      "source": [
        "import nltk\n",
        "nltk.download('vader_lexicon')"
      ]
    },
    {
      "cell_type": "code",
      "source": [
        "from nltk.sentiment.vader import SentimentIntensityAnalyzer\n",
        "sid = SentimentIntensityAnalyzer()\n",
        ""
      ],
      "metadata": {
        "id": "cEkBAg4PtlXK"
      },
      "execution_count": 3,
      "outputs": []
    },
    {
      "cell_type": "code",
      "source": [
        "text =\" i love machine learning and i hate all the data strucutre and alg0orithm \"\n",
        "score = sid.polarity_scores(text)\n",
        "print(score)"
      ],
      "metadata": {
        "colab": {
          "base_uri": "https://localhost:8080/"
        },
        "id": "Cgos-4KAuAI5",
        "outputId": "b67d57f3-8a59-492b-e594-9b5dd1539245"
      },
      "execution_count": 6,
      "outputs": [
        {
          "output_type": "stream",
          "name": "stdout",
          "text": [
            "{'neg': 0.219, 'neu': 0.533, 'pos': 0.249, 'compound': 0.128}\n"
          ]
        }
      ]
    },
    {
      "cell_type": "code",
      "source": [
        "text1 =\" i love machine learning and i adore all the data strucutre and alg0orithm \"\n",
        "score = sid.polarity_scores(text1)\n",
        "print(score)"
      ],
      "metadata": {
        "colab": {
          "base_uri": "https://localhost:8080/"
        },
        "id": "kSUhS-vOuADU",
        "outputId": "5f8c87cc-089b-40da-d41a-6da8b24096f5"
      },
      "execution_count": 5,
      "outputs": [
        {
          "output_type": "stream",
          "name": "stdout",
          "text": [
            "{'neg': 0.0, 'neu': 0.536, 'pos': 0.464, 'compound': 0.8316}\n"
          ]
        }
      ]
    },
    {
      "cell_type": "code",
      "source": [
        "text3 =\"the world is buring and animals are  crying \"\n",
        "score = sid.polarity_scores(text3)\n",
        "print(score)"
      ],
      "metadata": {
        "colab": {
          "base_uri": "https://localhost:8080/"
        },
        "id": "LTVJgDCMuqxX",
        "outputId": "ac220692-a7a3-4f4d-f06d-eb8e284e26b4"
      },
      "execution_count": 8,
      "outputs": [
        {
          "output_type": "stream",
          "name": "stdout",
          "text": [
            "{'neg': 0.307, 'neu': 0.693, 'pos': 0.0, 'compound': -0.4767}\n"
          ]
        }
      ]
    },
    {
      "cell_type": "code",
      "source": [
        "texts4 = [\n",
        "    \"I love this product! It works great and is very affordable.\",\n",
        "    \"This product is okay. It gets the job done, but could be better.\",\n",
        "    \"I hate this product. It doesn't work at all and is a waste of money.\"\n",
        "]\n",
        "\n",
        "def sentiment_analysis(text):\n",
        "  score = sid.polarity_scores(text)\n",
        "  compound_score = score['compound']\n",
        "  if compound_score >= 0.05:\n",
        "    return 'Positive'\n",
        "  elif compound_score <= -0.05:\n",
        "    return 'Negative'\n",
        "  else:\n",
        "    return 'Neutral'\n",
        "\n",
        "\n",
        "for text in texts4:\n",
        "  sentiment = sentiment_analysis(text)\n",
        "  print(f\"Text: {text}\\nSentiment: {sentiment}\\n\")\n",
        "\n",
        "\n",
        "\n"
      ],
      "metadata": {
        "colab": {
          "base_uri": "https://localhost:8080/"
        },
        "id": "615f73MTuAAP",
        "outputId": "b460f24d-2c9b-4141-bf56-eacdfd2058d4"
      },
      "execution_count": 11,
      "outputs": [
        {
          "output_type": "stream",
          "name": "stdout",
          "text": [
            "Text: I love this product! It works great and is very affordable.\n",
            "Sentiment: Positive\n",
            "\n",
            "Text: This product is okay. It gets the job done, but could be better.\n",
            "Sentiment: Positive\n",
            "\n",
            "Text: I hate this product. It doesn't work at all and is a waste of money.\n",
            "Sentiment: Negative\n",
            "\n"
          ]
        }
      ]
    },
    {
      "cell_type": "code",
      "source": [],
      "metadata": {
        "id": "2jq3QN8yxDTZ"
      },
      "execution_count": null,
      "outputs": []
    },
    {
      "cell_type": "code",
      "source": [],
      "metadata": {
        "id": "bZpupZJLxDP8"
      },
      "execution_count": null,
      "outputs": []
    },
    {
      "cell_type": "code",
      "source": [],
      "metadata": {
        "id": "jf032f9SxDN2"
      },
      "execution_count": null,
      "outputs": []
    },
    {
      "cell_type": "code",
      "source": [],
      "metadata": {
        "id": "ot-DbJyyt_9D"
      },
      "execution_count": null,
      "outputs": []
    },
    {
      "cell_type": "code",
      "source": [],
      "metadata": {
        "id": "L0X-fVMFt_65"
      },
      "execution_count": null,
      "outputs": []
    },
    {
      "cell_type": "code",
      "source": [],
      "metadata": {
        "id": "QUKIjmFXt_34"
      },
      "execution_count": null,
      "outputs": []
    },
    {
      "cell_type": "code",
      "source": [],
      "metadata": {
        "id": "jTMUL0-Nt_1_"
      },
      "execution_count": null,
      "outputs": []
    },
    {
      "cell_type": "code",
      "source": [],
      "metadata": {
        "id": "nPgQgs7ct_yb"
      },
      "execution_count": null,
      "outputs": []
    },
    {
      "cell_type": "code",
      "source": [],
      "metadata": {
        "id": "Z8WvJdett_wZ"
      },
      "execution_count": null,
      "outputs": []
    }
  ]
}