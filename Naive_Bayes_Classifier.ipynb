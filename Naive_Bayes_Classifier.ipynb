{
  "metadata": {
    "kernelspec": {
      "language": "python",
      "display_name": "Python 3",
      "name": "python3"
    },
    "language_info": {
      "name": "python",
      "version": "3.11.11",
      "mimetype": "text/x-python",
      "codemirror_mode": {
        "name": "ipython",
        "version": 3
      },
      "pygments_lexer": "ipython3",
      "nbconvert_exporter": "python",
      "file_extension": ".py"
    },
    "kaggle": {
      "accelerator": "none",
      "dataSources": [
        {
          "sourceId": 207354,
          "sourceType": "datasetVersion",
          "datasetId": 89775
        }
      ],
      "dockerImageVersionId": 31012,
      "isInternetEnabled": true,
      "language": "python",
      "sourceType": "notebook",
      "isGpuEnabled": false
    },
    "colab": {
      "name": "Naive Bayes Classifier",
      "provenance": [],
      "include_colab_link": true
    }
  },
  "nbformat_minor": 0,
  "nbformat": 4,
  "cells": [
    {
      "cell_type": "markdown",
      "metadata": {
        "id": "view-in-github",
        "colab_type": "text"
      },
      "source": [
        "<a href=\"https://colab.research.google.com/github/ScriptSherpa/AI-and-Ml-journey/blob/main/Naive_Bayes_Classifier.ipynb\" target=\"_parent\"><img src=\"https://colab.research.google.com/assets/colab-badge.svg\" alt=\"Open In Colab\"/></a>"
      ]
    },
    {
      "source": [
        "# IMPORTANT: RUN THIS CELL IN ORDER TO IMPORT YOUR KAGGLE DATA SOURCES,\n",
        "# THEN FEEL FREE TO DELETE THIS CELL.\n",
        "# NOTE: THIS NOTEBOOK ENVIRONMENT DIFFERS FROM KAGGLE'S PYTHON\n",
        "# ENVIRONMENT SO THERE MAY BE MISSING LIBRARIES USED BY YOUR\n",
        "# NOTEBOOK.\n",
        "import kagglehub\n",
        "fredericobreno_play_tennis_path = kagglehub.dataset_download('fredericobreno/play-tennis')\n",
        "\n",
        "print('Data source import complete.')\n"
      ],
      "metadata": {
        "id": "IOBPsG16QXGQ"
      },
      "cell_type": "code",
      "outputs": [],
      "execution_count": null
    },
    {
      "cell_type": "code",
      "source": [
        "# This Python 3 environment comes with many helpful analytics libraries installed\n",
        "# It is defined by the kaggle/python Docker image: https://github.com/kaggle/docker-python\n",
        "# For example, here's several helpful packages to load\n",
        "\n",
        "import numpy as np # linear algebra\n",
        "import pandas as pd # data processing, CSV file I/O (e.g. pd.read_csv)\n",
        "\n",
        "# Input data files are available in the read-only \"../input/\" directory\n",
        "# For example, running this (by clicking run or pressing Shift+Enter) will list all files under the input directory\n",
        "\n",
        "import os\n",
        "for dirname, _, filenames in os.walk('/kaggle/input'):\n",
        "    for filename in filenames:\n",
        "        print(os.path.join(dirname, filename))\n",
        "\n",
        "# You can write up to 20GB to the current directory (/kaggle/working/) that gets preserved as output when you create a version using \"Save & Run All\"\n",
        "# You can also write temporary files to /kaggle/temp/, but they won't be saved outside of the current session"
      ],
      "metadata": {
        "_uuid": "8f2839f25d086af736a60e9eeb907d3b93b6e0e5",
        "_cell_guid": "b1076dfc-b9ad-4769-8c92-a6c4dae69d19",
        "trusted": true,
        "execution": {
          "iopub.status.busy": "2025-05-11T06:51:01.672904Z",
          "iopub.execute_input": "2025-05-11T06:51:01.673291Z",
          "iopub.status.idle": "2025-05-11T06:51:03.347834Z",
          "shell.execute_reply.started": "2025-05-11T06:51:01.673249Z",
          "shell.execute_reply": "2025-05-11T06:51:03.346687Z"
        },
        "id": "IwrdGJ0HQXGY",
        "outputId": "2ac5570e-8e7b-4930-eff4-e7bcb90efb3e"
      },
      "outputs": [
        {
          "name": "stdout",
          "text": "/kaggle/input/play-tennis/play_tennis.csv\n",
          "output_type": "stream"
        }
      ],
      "execution_count": null
    },
    {
      "cell_type": "code",
      "source": [
        "df = pd.read_csv(\"/kaggle/input/play-tennis/play_tennis.csv\")"
      ],
      "metadata": {
        "trusted": true,
        "execution": {
          "iopub.status.busy": "2025-05-11T07:21:30.320346Z",
          "iopub.execute_input": "2025-05-11T07:21:30.320667Z",
          "iopub.status.idle": "2025-05-11T07:21:30.329266Z",
          "shell.execute_reply.started": "2025-05-11T07:21:30.320643Z",
          "shell.execute_reply": "2025-05-11T07:21:30.328298Z"
        },
        "id": "EktQoH3jQXGb"
      },
      "outputs": [],
      "execution_count": null
    },
    {
      "cell_type": "code",
      "source": [
        "df\n"
      ],
      "metadata": {
        "trusted": true,
        "execution": {
          "iopub.status.busy": "2025-05-11T07:21:39.180426Z",
          "iopub.execute_input": "2025-05-11T07:21:39.180735Z",
          "iopub.status.idle": "2025-05-11T07:21:39.209411Z",
          "shell.execute_reply.started": "2025-05-11T07:21:39.18071Z",
          "shell.execute_reply": "2025-05-11T07:21:39.208519Z"
        },
        "id": "umWO4zoMQXGd",
        "outputId": "37e54bf0-577b-4a59-caae-733da12df205"
      },
      "outputs": [
        {
          "execution_count": 4,
          "output_type": "execute_result",
          "data": {
            "text/plain": "    day   outlook  temp humidity    wind play\n0    D1     Sunny   Hot     High    Weak   No\n1    D2     Sunny   Hot     High  Strong   No\n2    D3  Overcast   Hot     High    Weak  Yes\n3    D4      Rain  Mild     High    Weak  Yes\n4    D5      Rain  Cool   Normal    Weak  Yes\n5    D6      Rain  Cool   Normal  Strong   No\n6    D7  Overcast  Cool   Normal  Strong  Yes\n7    D8     Sunny  Mild     High    Weak   No\n8    D9     Sunny  Cool   Normal    Weak  Yes\n9   D10      Rain  Mild   Normal    Weak  Yes\n10  D11     Sunny  Mild   Normal  Strong  Yes\n11  D12  Overcast  Mild     High  Strong  Yes\n12  D13  Overcast   Hot   Normal    Weak  Yes\n13  D14      Rain  Mild     High  Strong   No",
            "text/html": "<div>\n<style scoped>\n    .dataframe tbody tr th:only-of-type {\n        vertical-align: middle;\n    }\n\n    .dataframe tbody tr th {\n        vertical-align: top;\n    }\n\n    .dataframe thead th {\n        text-align: right;\n    }\n</style>\n<table border=\"1\" class=\"dataframe\">\n  <thead>\n    <tr style=\"text-align: right;\">\n      <th></th>\n      <th>day</th>\n      <th>outlook</th>\n      <th>temp</th>\n      <th>humidity</th>\n      <th>wind</th>\n      <th>play</th>\n    </tr>\n  </thead>\n  <tbody>\n    <tr>\n      <th>0</th>\n      <td>D1</td>\n      <td>Sunny</td>\n      <td>Hot</td>\n      <td>High</td>\n      <td>Weak</td>\n      <td>No</td>\n    </tr>\n    <tr>\n      <th>1</th>\n      <td>D2</td>\n      <td>Sunny</td>\n      <td>Hot</td>\n      <td>High</td>\n      <td>Strong</td>\n      <td>No</td>\n    </tr>\n    <tr>\n      <th>2</th>\n      <td>D3</td>\n      <td>Overcast</td>\n      <td>Hot</td>\n      <td>High</td>\n      <td>Weak</td>\n      <td>Yes</td>\n    </tr>\n    <tr>\n      <th>3</th>\n      <td>D4</td>\n      <td>Rain</td>\n      <td>Mild</td>\n      <td>High</td>\n      <td>Weak</td>\n      <td>Yes</td>\n    </tr>\n    <tr>\n      <th>4</th>\n      <td>D5</td>\n      <td>Rain</td>\n      <td>Cool</td>\n      <td>Normal</td>\n      <td>Weak</td>\n      <td>Yes</td>\n    </tr>\n    <tr>\n      <th>5</th>\n      <td>D6</td>\n      <td>Rain</td>\n      <td>Cool</td>\n      <td>Normal</td>\n      <td>Strong</td>\n      <td>No</td>\n    </tr>\n    <tr>\n      <th>6</th>\n      <td>D7</td>\n      <td>Overcast</td>\n      <td>Cool</td>\n      <td>Normal</td>\n      <td>Strong</td>\n      <td>Yes</td>\n    </tr>\n    <tr>\n      <th>7</th>\n      <td>D8</td>\n      <td>Sunny</td>\n      <td>Mild</td>\n      <td>High</td>\n      <td>Weak</td>\n      <td>No</td>\n    </tr>\n    <tr>\n      <th>8</th>\n      <td>D9</td>\n      <td>Sunny</td>\n      <td>Cool</td>\n      <td>Normal</td>\n      <td>Weak</td>\n      <td>Yes</td>\n    </tr>\n    <tr>\n      <th>9</th>\n      <td>D10</td>\n      <td>Rain</td>\n      <td>Mild</td>\n      <td>Normal</td>\n      <td>Weak</td>\n      <td>Yes</td>\n    </tr>\n    <tr>\n      <th>10</th>\n      <td>D11</td>\n      <td>Sunny</td>\n      <td>Mild</td>\n      <td>Normal</td>\n      <td>Strong</td>\n      <td>Yes</td>\n    </tr>\n    <tr>\n      <th>11</th>\n      <td>D12</td>\n      <td>Overcast</td>\n      <td>Mild</td>\n      <td>High</td>\n      <td>Strong</td>\n      <td>Yes</td>\n    </tr>\n    <tr>\n      <th>12</th>\n      <td>D13</td>\n      <td>Overcast</td>\n      <td>Hot</td>\n      <td>Normal</td>\n      <td>Weak</td>\n      <td>Yes</td>\n    </tr>\n    <tr>\n      <th>13</th>\n      <td>D14</td>\n      <td>Rain</td>\n      <td>Mild</td>\n      <td>High</td>\n      <td>Strong</td>\n      <td>No</td>\n    </tr>\n  </tbody>\n</table>\n</div>"
          },
          "metadata": {}
        }
      ],
      "execution_count": null
    },
    {
      "cell_type": "code",
      "source": [
        "df.drop(columns=[\"day\"],inplace=True)"
      ],
      "metadata": {
        "trusted": true,
        "execution": {
          "iopub.status.busy": "2025-05-11T07:21:52.580394Z",
          "iopub.execute_input": "2025-05-11T07:21:52.580666Z",
          "iopub.status.idle": "2025-05-11T07:21:52.594623Z",
          "shell.execute_reply.started": "2025-05-11T07:21:52.580645Z",
          "shell.execute_reply": "2025-05-11T07:21:52.593284Z"
        },
        "id": "w4IxmpBDQXGf"
      },
      "outputs": [],
      "execution_count": null
    },
    {
      "cell_type": "code",
      "source": [
        "# Problem 1\n",
        "\n",
        "# outlook=Sunny ,Temp=Hot ,Humididty=High ,Wind=Weak\n",
        "# play or not??\n",
        "# Solution\n",
        "\n",
        "# p(Yes | Suuny,Hot,High, Weak) = p(Sunny|Yes) * p(Hot|Yes) * p(High|Yes) * p(Weak|Yes) * p(Yes)\n",
        "\n",
        "# p(No | Suuny,Hot,High, Weak) = p(Sunny|No) * p(Hot|No) * p(High|No) * p(Weak|No) * p(No)\n",
        "\n",
        "# compare and decide using the maximum a posteriori rule above # Training\n",
        "\n",
        "# lookup table to store all required probabilities.\n",
        "\n",
        "# Testing"
      ],
      "metadata": {
        "trusted": true,
        "id": "zC3MekQTQXGg"
      },
      "outputs": [],
      "execution_count": null
    },
    {
      "cell_type": "code",
      "source": [
        "# P(yes)\n",
        "# p(no)\n",
        "df['play'].value_counts()"
      ],
      "metadata": {
        "trusted": true,
        "execution": {
          "iopub.status.busy": "2025-05-11T07:23:09.050366Z",
          "iopub.execute_input": "2025-05-11T07:23:09.050671Z",
          "iopub.status.idle": "2025-05-11T07:23:09.062754Z",
          "shell.execute_reply.started": "2025-05-11T07:23:09.050648Z",
          "shell.execute_reply": "2025-05-11T07:23:09.061927Z"
        },
        "id": "9p_9MHiOQXGh",
        "outputId": "c963a9ae-1836-437d-da67-e345b64b36f6"
      },
      "outputs": [
        {
          "execution_count": 6,
          "output_type": "execute_result",
          "data": {
            "text/plain": "play\nYes    9\nNo     5\nName: count, dtype: int64"
          },
          "metadata": {}
        }
      ],
      "execution_count": null
    },
    {
      "cell_type": "code",
      "source": [
        "py =9/14\n",
        "pn=5/14\n",
        "print(py)\n",
        "print(pn)"
      ],
      "metadata": {
        "trusted": true,
        "execution": {
          "iopub.status.busy": "2025-05-11T07:23:38.258593Z",
          "iopub.execute_input": "2025-05-11T07:23:38.258952Z",
          "iopub.status.idle": "2025-05-11T07:23:38.26433Z",
          "shell.execute_reply.started": "2025-05-11T07:23:38.258926Z",
          "shell.execute_reply": "2025-05-11T07:23:38.263285Z"
        },
        "id": "48zG42h-QXGj",
        "outputId": "4d805b2c-bfd8-49f1-9859-8e55600fdcd9"
      },
      "outputs": [
        {
          "name": "stdout",
          "text": "0.6428571428571429\n0.35714285714285715\n",
          "output_type": "stream"
        }
      ],
      "execution_count": null
    },
    {
      "cell_type": "code",
      "source": [
        "# outlook columns\n",
        "#pd.crosstab(df[\"outlook\"],df['play'])\n",
        "pd.crosstab(df[\"play\"],df['outlook'])"
      ],
      "metadata": {
        "trusted": true,
        "execution": {
          "iopub.status.busy": "2025-05-11T07:25:46.569439Z",
          "iopub.execute_input": "2025-05-11T07:25:46.569756Z",
          "iopub.status.idle": "2025-05-11T07:25:46.586354Z",
          "shell.execute_reply.started": "2025-05-11T07:25:46.569731Z",
          "shell.execute_reply": "2025-05-11T07:25:46.585372Z"
        },
        "id": "yhk0sQOkQXGk",
        "outputId": "947561f2-4c49-4378-968f-865cc7eeed63"
      },
      "outputs": [
        {
          "execution_count": 10,
          "output_type": "execute_result",
          "data": {
            "text/plain": "outlook  Overcast  Rain  Sunny\nplay                          \nNo              0     2      3\nYes             4     3      2",
            "text/html": "<div>\n<style scoped>\n    .dataframe tbody tr th:only-of-type {\n        vertical-align: middle;\n    }\n\n    .dataframe tbody tr th {\n        vertical-align: top;\n    }\n\n    .dataframe thead th {\n        text-align: right;\n    }\n</style>\n<table border=\"1\" class=\"dataframe\">\n  <thead>\n    <tr style=\"text-align: right;\">\n      <th>outlook</th>\n      <th>Overcast</th>\n      <th>Rain</th>\n      <th>Sunny</th>\n    </tr>\n    <tr>\n      <th>play</th>\n      <th></th>\n      <th></th>\n      <th></th>\n    </tr>\n  </thead>\n  <tbody>\n    <tr>\n      <th>No</th>\n      <td>0</td>\n      <td>2</td>\n      <td>3</td>\n    </tr>\n    <tr>\n      <th>Yes</th>\n      <td>4</td>\n      <td>3</td>\n      <td>2</td>\n    </tr>\n  </tbody>\n</table>\n</div>"
          },
          "metadata": {}
        }
      ],
      "execution_count": null
    },
    {
      "cell_type": "code",
      "source": [
        "# No\n",
        "pon = 0\n",
        "prn = 2/5\n",
        "psn = 3/5\n",
        "\n",
        "# Yes\n",
        "poy = 4/9\n",
        "pry = 3/9\n",
        "psy= 2/9"
      ],
      "metadata": {
        "trusted": true,
        "execution": {
          "iopub.status.busy": "2025-05-11T07:25:59.038308Z",
          "iopub.execute_input": "2025-05-11T07:25:59.038585Z",
          "iopub.status.idle": "2025-05-11T07:25:59.043649Z",
          "shell.execute_reply.started": "2025-05-11T07:25:59.038564Z",
          "shell.execute_reply": "2025-05-11T07:25:59.042773Z"
        },
        "id": "_peDbXU6QXGm"
      },
      "outputs": [],
      "execution_count": null
    },
    {
      "cell_type": "code",
      "source": [
        "pd.crosstab(df['play'],df['temp'])"
      ],
      "metadata": {
        "trusted": true,
        "execution": {
          "iopub.status.busy": "2025-05-11T07:26:28.230569Z",
          "iopub.execute_input": "2025-05-11T07:26:28.230869Z",
          "iopub.status.idle": "2025-05-11T07:26:28.251528Z",
          "shell.execute_reply.started": "2025-05-11T07:26:28.230847Z",
          "shell.execute_reply": "2025-05-11T07:26:28.250432Z"
        },
        "id": "uTSWwygNQXGn",
        "outputId": "0c61bd60-755c-4054-cd3f-2153db817552"
      },
      "outputs": [
        {
          "execution_count": 13,
          "output_type": "execute_result",
          "data": {
            "text/plain": "temp  Cool  Hot  Mild\nplay                 \nNo       1    2     2\nYes      3    2     4",
            "text/html": "<div>\n<style scoped>\n    .dataframe tbody tr th:only-of-type {\n        vertical-align: middle;\n    }\n\n    .dataframe tbody tr th {\n        vertical-align: top;\n    }\n\n    .dataframe thead th {\n        text-align: right;\n    }\n</style>\n<table border=\"1\" class=\"dataframe\">\n  <thead>\n    <tr style=\"text-align: right;\">\n      <th>temp</th>\n      <th>Cool</th>\n      <th>Hot</th>\n      <th>Mild</th>\n    </tr>\n    <tr>\n      <th>play</th>\n      <th></th>\n      <th></th>\n      <th></th>\n    </tr>\n  </thead>\n  <tbody>\n    <tr>\n      <th>No</th>\n      <td>1</td>\n      <td>2</td>\n      <td>2</td>\n    </tr>\n    <tr>\n      <th>Yes</th>\n      <td>3</td>\n      <td>2</td>\n      <td>4</td>\n    </tr>\n  </tbody>\n</table>\n</div>"
          },
          "metadata": {}
        }
      ],
      "execution_count": null
    },
    {
      "cell_type": "code",
      "source": [
        "# No\n",
        "pcooln = 1/5\n",
        "photn = 2/5\n",
        "pmildn = 2/5\n",
        "\n",
        "# Yes\n",
        "pcooly = 3/9\n",
        "photy = 2/9\n",
        "pmildy= 4/9"
      ],
      "metadata": {
        "trusted": true,
        "execution": {
          "iopub.status.busy": "2025-05-11T07:26:44.40028Z",
          "iopub.execute_input": "2025-05-11T07:26:44.400602Z",
          "iopub.status.idle": "2025-05-11T07:26:44.405677Z",
          "shell.execute_reply.started": "2025-05-11T07:26:44.400579Z",
          "shell.execute_reply": "2025-05-11T07:26:44.404627Z"
        },
        "id": "a2EB8f9TQXGo"
      },
      "outputs": [],
      "execution_count": null
    },
    {
      "cell_type": "code",
      "source": [
        "pd.crosstab(df['play'],df['humidity'])"
      ],
      "metadata": {
        "trusted": true,
        "execution": {
          "iopub.status.busy": "2025-05-11T07:27:05.080436Z",
          "iopub.execute_input": "2025-05-11T07:27:05.080741Z",
          "iopub.status.idle": "2025-05-11T07:27:05.097616Z",
          "shell.execute_reply.started": "2025-05-11T07:27:05.080718Z",
          "shell.execute_reply": "2025-05-11T07:27:05.096548Z"
        },
        "id": "5MEsQRDOQXGp",
        "outputId": "d8e92aa7-6355-48bf-a843-e9c1112e034b"
      },
      "outputs": [
        {
          "execution_count": 19,
          "output_type": "execute_result",
          "data": {
            "text/plain": "humidity  High  Normal\nplay                  \nNo           4       1\nYes          3       6",
            "text/html": "<div>\n<style scoped>\n    .dataframe tbody tr th:only-of-type {\n        vertical-align: middle;\n    }\n\n    .dataframe tbody tr th {\n        vertical-align: top;\n    }\n\n    .dataframe thead th {\n        text-align: right;\n    }\n</style>\n<table border=\"1\" class=\"dataframe\">\n  <thead>\n    <tr style=\"text-align: right;\">\n      <th>humidity</th>\n      <th>High</th>\n      <th>Normal</th>\n    </tr>\n    <tr>\n      <th>play</th>\n      <th></th>\n      <th></th>\n    </tr>\n  </thead>\n  <tbody>\n    <tr>\n      <th>No</th>\n      <td>4</td>\n      <td>1</td>\n    </tr>\n    <tr>\n      <th>Yes</th>\n      <td>3</td>\n      <td>6</td>\n    </tr>\n  </tbody>\n</table>\n</div>"
          },
          "metadata": {}
        }
      ],
      "execution_count": null
    },
    {
      "cell_type": "code",
      "source": [
        "# No\n",
        "phighn = 4/5\n",
        "pnormaln = 1/5\n",
        "\n",
        "# Yes\n",
        "phighy = 3/9\n",
        "pnormaly = 6/9"
      ],
      "metadata": {
        "trusted": true,
        "execution": {
          "iopub.status.busy": "2025-05-11T07:28:20.350675Z",
          "iopub.execute_input": "2025-05-11T07:28:20.351649Z",
          "iopub.status.idle": "2025-05-11T07:28:20.356385Z",
          "shell.execute_reply.started": "2025-05-11T07:28:20.351608Z",
          "shell.execute_reply": "2025-05-11T07:28:20.355272Z"
        },
        "id": "NxWItS6sQXGp"
      },
      "outputs": [],
      "execution_count": null
    },
    {
      "cell_type": "code",
      "source": [
        "pd.crosstab(df['wind'],df['play'])"
      ],
      "metadata": {
        "trusted": true,
        "execution": {
          "iopub.status.busy": "2025-05-11T07:27:34.830557Z",
          "iopub.execute_input": "2025-05-11T07:27:34.830906Z",
          "iopub.status.idle": "2025-05-11T07:27:34.848429Z",
          "shell.execute_reply.started": "2025-05-11T07:27:34.83088Z",
          "shell.execute_reply": "2025-05-11T07:27:34.847352Z"
        },
        "id": "FlYwTCBeQXGq",
        "outputId": "77831df8-e386-4422-ce8c-bb7a4845fb3a"
      },
      "outputs": [
        {
          "execution_count": 20,
          "output_type": "execute_result",
          "data": {
            "text/plain": "play    No  Yes\nwind           \nStrong   3    3\nWeak     2    6",
            "text/html": "<div>\n<style scoped>\n    .dataframe tbody tr th:only-of-type {\n        vertical-align: middle;\n    }\n\n    .dataframe tbody tr th {\n        vertical-align: top;\n    }\n\n    .dataframe thead th {\n        text-align: right;\n    }\n</style>\n<table border=\"1\" class=\"dataframe\">\n  <thead>\n    <tr style=\"text-align: right;\">\n      <th>play</th>\n      <th>No</th>\n      <th>Yes</th>\n    </tr>\n    <tr>\n      <th>wind</th>\n      <th></th>\n      <th></th>\n    </tr>\n  </thead>\n  <tbody>\n    <tr>\n      <th>Strong</th>\n      <td>3</td>\n      <td>3</td>\n    </tr>\n    <tr>\n      <th>Weak</th>\n      <td>2</td>\n      <td>6</td>\n    </tr>\n  </tbody>\n</table>\n</div>"
          },
          "metadata": {}
        }
      ],
      "execution_count": null
    },
    {
      "cell_type": "code",
      "source": [
        "# No\n",
        "pstrongn = 3/5\n",
        "pweakn = 2/5\n",
        "\n",
        "# Yes\n",
        "pstrongy = 3/9\n",
        "pweaky = 6/9"
      ],
      "metadata": {
        "trusted": true,
        "execution": {
          "iopub.status.busy": "2025-05-11T07:27:47.330517Z",
          "iopub.execute_input": "2025-05-11T07:27:47.330854Z",
          "iopub.status.idle": "2025-05-11T07:27:47.336006Z",
          "shell.execute_reply.started": "2025-05-11T07:27:47.330823Z",
          "shell.execute_reply": "2025-05-11T07:27:47.334707Z"
        },
        "id": "Qw-IFTDDQXGq"
      },
      "outputs": [],
      "execution_count": null
    },
    {
      "cell_type": "code",
      "source": [
        "# Now find the probability of yes by the formaula from above\n",
        "\n",
        "# outlook=Sunny ,Temp=Hot ,Humididty=High ,Wind=Weak\n",
        "\n",
        "# find for this above\n",
        "\n",
        "pyes = py * photy * phighy * pweaky\n",
        "pyes"
      ],
      "metadata": {
        "trusted": true,
        "execution": {
          "iopub.status.busy": "2025-05-11T07:28:26.311785Z",
          "iopub.execute_input": "2025-05-11T07:28:26.312464Z",
          "iopub.status.idle": "2025-05-11T07:28:26.321031Z",
          "shell.execute_reply.started": "2025-05-11T07:28:26.312418Z",
          "shell.execute_reply": "2025-05-11T07:28:26.319884Z"
        },
        "id": "p8Wzp-HOQXGr",
        "outputId": "042101ba-a917-480b-a990-6fff9c05578b"
      },
      "outputs": [
        {
          "execution_count": 26,
          "output_type": "execute_result",
          "data": {
            "text/plain": "0.031746031746031744"
          },
          "metadata": {}
        }
      ],
      "execution_count": null
    },
    {
      "cell_type": "code",
      "source": [
        "# No\n",
        "pno = pn * photn * phighn * pweakn\n",
        "pno"
      ],
      "metadata": {
        "trusted": true,
        "execution": {
          "iopub.status.busy": "2025-05-11T07:28:36.340555Z",
          "iopub.execute_input": "2025-05-11T07:28:36.340985Z",
          "iopub.status.idle": "2025-05-11T07:28:36.348317Z",
          "shell.execute_reply.started": "2025-05-11T07:28:36.340951Z",
          "shell.execute_reply": "2025-05-11T07:28:36.347425Z"
        },
        "id": "x54So0IOQXGr",
        "outputId": "1a2ac584-51ab-44ef-e314-388ec53f41dd"
      },
      "outputs": [
        {
          "execution_count": 27,
          "output_type": "execute_result",
          "data": {
            "text/plain": "0.04571428571428573"
          },
          "metadata": {}
        }
      ],
      "execution_count": null
    },
    {
      "cell_type": "code",
      "source": [
        "# so we cosider the maximum probability which is no  as output"
      ],
      "metadata": {
        "trusted": true,
        "id": "fKBp1I_wQXGs"
      },
      "outputs": [],
      "execution_count": null
    },
    {
      "cell_type": "code",
      "source": [
        "# This is how internally naive bayes classifier works."
      ],
      "metadata": {
        "trusted": true,
        "id": "bodf2K3pQXGt"
      },
      "outputs": [],
      "execution_count": null
    },
    {
      "cell_type": "code",
      "source": [],
      "metadata": {
        "trusted": true,
        "id": "Fa6XzEqSQXGt"
      },
      "outputs": [],
      "execution_count": null
    },
    {
      "cell_type": "code",
      "source": [],
      "metadata": {
        "trusted": true,
        "id": "HXgsNydFQXGt"
      },
      "outputs": [],
      "execution_count": null
    },
    {
      "cell_type": "code",
      "source": [],
      "metadata": {
        "trusted": true,
        "id": "x0d6PK0oQXGu"
      },
      "outputs": [],
      "execution_count": null
    },
    {
      "cell_type": "code",
      "source": [],
      "metadata": {
        "trusted": true,
        "id": "AZVqx-iUQXGu"
      },
      "outputs": [],
      "execution_count": null
    },
    {
      "cell_type": "code",
      "source": [],
      "metadata": {
        "trusted": true,
        "id": "zqesA_HsQXGu"
      },
      "outputs": [],
      "execution_count": null
    },
    {
      "cell_type": "code",
      "source": [],
      "metadata": {
        "trusted": true,
        "id": "DIi5wcuSQXGu"
      },
      "outputs": [],
      "execution_count": null
    },
    {
      "cell_type": "code",
      "source": [],
      "metadata": {
        "trusted": true,
        "id": "fxhNcm8SQXGu"
      },
      "outputs": [],
      "execution_count": null
    },
    {
      "cell_type": "code",
      "source": [],
      "metadata": {
        "trusted": true,
        "id": "np2ueRfaQXGu"
      },
      "outputs": [],
      "execution_count": null
    }
  ]
}