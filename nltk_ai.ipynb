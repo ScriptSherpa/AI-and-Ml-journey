{
  "nbformat": 4,
  "nbformat_minor": 0,
  "metadata": {
    "colab": {
      "provenance": [],
      "authorship_tag": "ABX9TyNFC0CSklRDGZ2jQ9vdMZ/d",
      "include_colab_link": true
    },
    "kernelspec": {
      "name": "python3",
      "display_name": "Python 3"
    },
    "language_info": {
      "name": "python"
    }
  },
  "cells": [
    {
      "cell_type": "markdown",
      "metadata": {
        "id": "view-in-github",
        "colab_type": "text"
      },
      "source": [
        "<a href=\"https://colab.research.google.com/github/ScriptSherpa/AI-and-Ml-journey/blob/main/nltk_ai.ipynb\" target=\"_parent\"><img src=\"https://colab.research.google.com/assets/colab-badge.svg\" alt=\"Open In Colab\"/></a>"
      ]
    },
    {
      "cell_type": "code",
      "execution_count": 1,
      "metadata": {
        "id": "Mzam-WfmlcAA"
      },
      "outputs": [],
      "source": [
        "import nltk"
      ]
    },
    {
      "cell_type": "code",
      "source": [
        "nltk.download('punk_tab')"
      ],
      "metadata": {
        "colab": {
          "base_uri": "https://localhost:8080/"
        },
        "id": "VbMgXOi-lhfD",
        "outputId": "a5e0adac-b4f5-41d8-e822-9529580c35a5"
      },
      "execution_count": 2,
      "outputs": [
        {
          "output_type": "stream",
          "name": "stderr",
          "text": [
            "[nltk_data] Error loading punk_tab: Package 'punk_tab' not found in\n",
            "[nltk_data]     index\n"
          ]
        },
        {
          "output_type": "execute_result",
          "data": {
            "text/plain": [
              "False"
            ]
          },
          "metadata": {},
          "execution_count": 2
        }
      ]
    },
    {
      "cell_type": "code",
      "source": [
        "nltk.download('punkt')"
      ],
      "metadata": {
        "colab": {
          "base_uri": "https://localhost:8080/"
        },
        "id": "t2cx-maZl62D",
        "outputId": "226a269e-9ac3-4aca-d59d-7c90c4296571"
      },
      "execution_count": 3,
      "outputs": [
        {
          "output_type": "stream",
          "name": "stderr",
          "text": [
            "[nltk_data] Downloading package punkt to /root/nltk_data...\n",
            "[nltk_data]   Package punkt is already up-to-date!\n"
          ]
        },
        {
          "output_type": "execute_result",
          "data": {
            "text/plain": [
              "True"
            ]
          },
          "metadata": {},
          "execution_count": 3
        }
      ]
    },
    {
      "cell_type": "code",
      "source": [
        "# Tokenization breaks the raw text into words, sentences called token\n",
        "# The meaning of the test could be easily interpreted by the machine\n",
        "# word tokenization\n",
        "from nltk.tokenize import sent_tokenize, word_tokenize"
      ],
      "metadata": {
        "id": "urpy4zYXlmcj"
      },
      "execution_count": 4,
      "outputs": []
    },
    {
      "cell_type": "code",
      "source": [
        "import nltk\n",
        "\n",
        "# Download the 'punkt_tab' data (corrected name)\n",
        "nltk.download('punkt_tab')\n",
        "\n",
        "# Download the 'punkt' data for word tokenization\n",
        "nltk.download('punkt')\n",
        "\n",
        "# Tokenization breaks the raw text into words, sentences called token\n",
        "# The meaning of the test could be easily interpreted by the machine\n",
        "# word tokenization\n",
        "from nltk.tokenize import sent_tokenize, word_tokenize\n",
        "\n",
        "text ='Best quality, Great sound, Good comfort with superb Headphone Design.'\n",
        "print(sent_tokenize(text)) # Call sent_tokenize directly with the text string as argument"
      ],
      "metadata": {
        "colab": {
          "base_uri": "https://localhost:8080/"
        },
        "id": "4AkbXPT7lx2k",
        "outputId": "31af42f7-92f5-4ae1-dbf3-1824a7b51b1f"
      },
      "execution_count": 5,
      "outputs": [
        {
          "output_type": "stream",
          "name": "stdout",
          "text": [
            "['Best quality, Great sound, Good comfort with superb Headphone Design.']\n"
          ]
        },
        {
          "output_type": "stream",
          "name": "stderr",
          "text": [
            "[nltk_data] Downloading package punkt_tab to /root/nltk_data...\n",
            "[nltk_data]   Package punkt_tab is already up-to-date!\n",
            "[nltk_data] Downloading package punkt to /root/nltk_data...\n",
            "[nltk_data]   Package punkt is already up-to-date!\n"
          ]
        }
      ]
    },
    {
      "cell_type": "code",
      "source": [
        "import nltk\n",
        "from nltk.tokenize import word_tokenize\n",
        "import nltk\n",
        "from nltk.tokenize import word_tokenize\n",
        "nltk.download('punkt', quiet=True)\n",
        "\n",
        "best ='I think built quality is okay in this price range. It totally made of plastic. But it is flexible for all size of heads. Also you can adjust headphone size as your need. Type C port for recharge battery, but it\\'s not a USB port. I mean you can not load songs from your computer to memory card using type C port. It\\'s just for charging purpose.'\n",
        "print(word_tokenize(best))"
      ],
      "metadata": {
        "colab": {
          "base_uri": "https://localhost:8080/"
        },
        "id": "m_oa05i3l0py",
        "outputId": "eef5f27a-78a3-4506-ee2a-a6bceadf8425"
      },
      "execution_count": 6,
      "outputs": [
        {
          "output_type": "stream",
          "name": "stdout",
          "text": [
            "['I', 'think', 'built', 'quality', 'is', 'okay', 'in', 'this', 'price', 'range', '.', 'It', 'totally', 'made', 'of', 'plastic', '.', 'But', 'it', 'is', 'flexible', 'for', 'all', 'size', 'of', 'heads', '.', 'Also', 'you', 'can', 'adjust', 'headphone', 'size', 'as', 'your', 'need', '.', 'Type', 'C', 'port', 'for', 'recharge', 'battery', ',', 'but', 'it', \"'s\", 'not', 'a', 'USB', 'port', '.', 'I', 'mean', 'you', 'can', 'not', 'load', 'songs', 'from', 'your', 'computer', 'to', 'memory', 'card', 'using', 'type', 'C', 'port', '.', 'It', \"'s\", 'just', 'for', 'charging', 'purpose', '.']\n"
          ]
        }
      ]
    },
    {
      "cell_type": "code",
      "source": [
        "# filtering stop words\n",
        "nltk.download(\"stopwords\")"
      ],
      "metadata": {
        "colab": {
          "base_uri": "https://localhost:8080/"
        },
        "id": "7w85LAH3mUQJ",
        "outputId": "f69f7dd8-afd9-435f-bd90-78fe8e98654a"
      },
      "execution_count": 7,
      "outputs": [
        {
          "output_type": "stream",
          "name": "stderr",
          "text": [
            "[nltk_data] Downloading package stopwords to /root/nltk_data...\n",
            "[nltk_data]   Package stopwords is already up-to-date!\n"
          ]
        },
        {
          "output_type": "execute_result",
          "data": {
            "text/plain": [
              "True"
            ]
          },
          "metadata": {},
          "execution_count": 7
        }
      ]
    },
    {
      "cell_type": "code",
      "source": [
        "from nltk.corpus import stopwords\n",
        "stop_words=stopwords.words('english')"
      ],
      "metadata": {
        "collapsed": true,
        "id": "e4tlykAfmhgC"
      },
      "execution_count": 8,
      "outputs": []
    },
    {
      "source": [
        "len(stop_words) # Use len() to get the length of the list or use stop_words.count('the')  to count a specific word\n"
      ],
      "cell_type": "code",
      "metadata": {
        "colab": {
          "base_uri": "https://localhost:8080/"
        },
        "id": "bZ3EQKJMnNUp",
        "outputId": "6fd8dcf0-f3cb-4ce5-9a38-408150dd26fc"
      },
      "execution_count": 9,
      "outputs": [
        {
          "output_type": "execute_result",
          "data": {
            "text/plain": [
              "198"
            ]
          },
          "metadata": {},
          "execution_count": 9
        }
      ]
    },
    {
      "cell_type": "code",
      "source": [
        "text =\"think built quality is okay in this price range. It totally made of plastic. But it is flexible for all size of heads. Also you can adjust headphone size as your need. Type C port for recharge battery, but it's not a USB port. I mean you can not load songs from your computer to memory card using type C port. It's just for charging purpose.\"\n",
        "words_in_text=word_tokenize(text)"
      ],
      "metadata": {
        "id": "C6xl7cjcnJI4"
      },
      "execution_count": 10,
      "outputs": []
    },
    {
      "cell_type": "code",
      "source": [
        "filtered_list =[]\n",
        "for word in words_in_text:\n",
        "    if word.casefold() not in stop_words:\n",
        "        filtered_list.append(word)\n",
        "filtered_list"
      ],
      "metadata": {
        "colab": {
          "base_uri": "https://localhost:8080/"
        },
        "id": "7PtsJaRYnehF",
        "outputId": "25b6649e-9c8f-4c54-fe2b-a11330f20117"
      },
      "execution_count": 11,
      "outputs": [
        {
          "output_type": "execute_result",
          "data": {
            "text/plain": [
              "['think',\n",
              " 'built',\n",
              " 'quality',\n",
              " 'okay',\n",
              " 'price',\n",
              " 'range',\n",
              " '.',\n",
              " 'totally',\n",
              " 'made',\n",
              " 'plastic',\n",
              " '.',\n",
              " 'flexible',\n",
              " 'size',\n",
              " 'heads',\n",
              " '.',\n",
              " 'Also',\n",
              " 'adjust',\n",
              " 'headphone',\n",
              " 'size',\n",
              " 'need',\n",
              " '.',\n",
              " 'Type',\n",
              " 'C',\n",
              " 'port',\n",
              " 'recharge',\n",
              " 'battery',\n",
              " ',',\n",
              " \"'s\",\n",
              " 'USB',\n",
              " 'port',\n",
              " '.',\n",
              " 'mean',\n",
              " 'load',\n",
              " 'songs',\n",
              " 'computer',\n",
              " 'memory',\n",
              " 'card',\n",
              " 'using',\n",
              " 'type',\n",
              " 'C',\n",
              " 'port',\n",
              " '.',\n",
              " \"'s\",\n",
              " 'charging',\n",
              " 'purpose',\n",
              " '.']"
            ]
          },
          "metadata": {},
          "execution_count": 11
        }
      ]
    },
    {
      "cell_type": "code",
      "source": [
        "# steemming\n",
        "# complex word go root word\n",
        "from nltk.stem import PorterStemmer\n",
        "ps=PorterStemmer()\n",
        "\n",
        "words=['wait','waiting','waits']\n",
        "for word in words:\n",
        "    print(word, ':', ps.stem(word))\n",
        "#"
      ],
      "metadata": {
        "colab": {
          "base_uri": "https://localhost:8080/"
        },
        "id": "-2aUQhVVpKmQ",
        "outputId": "e9dea9c7-7f89-402c-fb5c-6be0840b15ad"
      },
      "execution_count": 12,
      "outputs": [
        {
          "output_type": "stream",
          "name": "stdout",
          "text": [
            "wait : wait\n",
            "waiting : wait\n",
            "waits : wait\n"
          ]
        }
      ]
    },
    {
      "cell_type": "code",
      "source": [
        "from nltk.stem import WordNetLemmatizer\n",
        "nltk.download('wordnet')\n",
        "ns=WordNetLemmatizer()\n",
        "\n",
        "words=['wait','waiting','waits']\n",
        "for word in words:\n",
        "    print(ns.lemmatize(word))"
      ],
      "metadata": {
        "colab": {
          "base_uri": "https://localhost:8080/"
        },
        "id": "3RoC5tbxpKjV",
        "outputId": "5cc1634d-fa77-4566-d38b-973593f3c2fd"
      },
      "execution_count": 13,
      "outputs": [
        {
          "output_type": "stream",
          "name": "stderr",
          "text": [
            "[nltk_data] Downloading package wordnet to /root/nltk_data...\n",
            "[nltk_data]   Package wordnet is already up-to-date!\n"
          ]
        },
        {
          "output_type": "stream",
          "name": "stdout",
          "text": [
            "wait\n",
            "waiting\n",
            "wait\n"
          ]
        }
      ]
    },
    {
      "cell_type": "code",
      "source": [
        "# parte of the speech taggeing -- mark word as noun\n",
        "text ='the quick brown fox jumps over the little lazy dog'\n",
        "words=word_tokenize(text)\n",
        "nltk.download('averaged_perceptron_tagger_eng')\n",
        "print(nltk.pos_tag([word]))"
      ],
      "metadata": {
        "id": "hRP7xn4mpKgZ",
        "colab": {
          "base_uri": "https://localhost:8080/"
        },
        "outputId": "24c97479-7eef-4ffb-bbd1-e52eef70aa58"
      },
      "execution_count": 14,
      "outputs": [
        {
          "output_type": "stream",
          "name": "stdout",
          "text": [
            "[('waits', 'NNS')]\n"
          ]
        },
        {
          "output_type": "stream",
          "name": "stderr",
          "text": [
            "[nltk_data] Downloading package averaged_perceptron_tagger_eng to\n",
            "[nltk_data]     /root/nltk_data...\n",
            "[nltk_data]   Package averaged_perceptron_tagger_eng is already up-to-\n",
            "[nltk_data]       date!\n"
          ]
        }
      ]
    },
    {
      "cell_type": "code",
      "source": [
        "# textblob.correct() method\n",
        "# will coreect spelling mistakes\n",
        "from textblob import TextBlob\n",
        "text='I think buuiilt quality is okay in this  prrice range'\n",
        "print(TextBlob(text).correct())"
      ],
      "metadata": {
        "colab": {
          "base_uri": "https://localhost:8080/"
        },
        "id": "0tuM5sdZtnTn",
        "outputId": "cab511f6-715c-4c33-d46c-c29e4ff90422"
      },
      "execution_count": 15,
      "outputs": [
        {
          "output_type": "stream",
          "name": "stdout",
          "text": [
            "I think built quality is okay in this  price range\n"
          ]
        }
      ]
    },
    {
      "cell_type": "code",
      "source": [
        "test = TextBlob('XYZ is a good compny and alays valule ttheir employees.')\n",
        "\n",
        "test = test.correct()\n",
        "\n",
        "print(test)\n",
        ""
      ],
      "metadata": {
        "id": "2tI01vXMpKer",
        "colab": {
          "base_uri": "https://localhost:8080/"
        },
        "outputId": "49426847-5081-4176-d58e-4d388cce6e2b"
      },
      "execution_count": 16,
      "outputs": [
        {
          "output_type": "stream",
          "name": "stdout",
          "text": [
            "XYZ is a good company and always value their employees.\n"
          ]
        }
      ]
    },
    {
      "cell_type": "code",
      "source": [],
      "metadata": {
        "id": "DMcts-MJv-iw"
      },
      "execution_count": null,
      "outputs": []
    },
    {
      "cell_type": "code",
      "source": [],
      "metadata": {
        "id": "c-BOeYn5v-5l"
      },
      "execution_count": null,
      "outputs": []
    },
    {
      "cell_type": "code",
      "source": [
        "!pip install googletrans\n",
        "import googletrans\n",
        "googletrans.LANGUAGES"
      ],
      "metadata": {
        "id": "FDbSZgrEpKZJ",
        "colab": {
          "base_uri": "https://localhost:8080/"
        },
        "outputId": "ac6ae6a9-1a47-478c-a174-d2eab301dc92"
      },
      "execution_count": 20,
      "outputs": [
        {
          "output_type": "stream",
          "name": "stdout",
          "text": [
            "Requirement already satisfied: googletrans in /usr/local/lib/python3.11/dist-packages (4.0.0rc1)\n",
            "Requirement already satisfied: httpx==0.13.3 in /usr/local/lib/python3.11/dist-packages (from googletrans) (0.13.3)\n",
            "Requirement already satisfied: certifi in /usr/local/lib/python3.11/dist-packages (from httpx==0.13.3->googletrans) (2025.1.31)\n",
            "Requirement already satisfied: hstspreload in /usr/local/lib/python3.11/dist-packages (from httpx==0.13.3->googletrans) (2025.1.1)\n",
            "Requirement already satisfied: sniffio in /usr/local/lib/python3.11/dist-packages (from httpx==0.13.3->googletrans) (1.3.1)\n",
            "Requirement already satisfied: chardet==3.* in /usr/local/lib/python3.11/dist-packages (from httpx==0.13.3->googletrans) (3.0.4)\n",
            "Requirement already satisfied: idna==2.* in /usr/local/lib/python3.11/dist-packages (from httpx==0.13.3->googletrans) (2.10)\n",
            "Requirement already satisfied: rfc3986<2,>=1.3 in /usr/local/lib/python3.11/dist-packages (from httpx==0.13.3->googletrans) (1.5.0)\n",
            "Requirement already satisfied: httpcore==0.9.* in /usr/local/lib/python3.11/dist-packages (from httpx==0.13.3->googletrans) (0.9.1)\n",
            "Requirement already satisfied: h11<0.10,>=0.8 in /usr/local/lib/python3.11/dist-packages (from httpcore==0.9.*->httpx==0.13.3->googletrans) (0.9.0)\n",
            "Requirement already satisfied: h2==3.* in /usr/local/lib/python3.11/dist-packages (from httpcore==0.9.*->httpx==0.13.3->googletrans) (3.2.0)\n",
            "Requirement already satisfied: hyperframe<6,>=5.2.0 in /usr/local/lib/python3.11/dist-packages (from h2==3.*->httpcore==0.9.*->httpx==0.13.3->googletrans) (5.2.0)\n",
            "Requirement already satisfied: hpack<4,>=3.0 in /usr/local/lib/python3.11/dist-packages (from h2==3.*->httpcore==0.9.*->httpx==0.13.3->googletrans) (3.0.0)\n"
          ]
        },
        {
          "output_type": "execute_result",
          "data": {
            "text/plain": [
              "{'af': 'afrikaans',\n",
              " 'sq': 'albanian',\n",
              " 'am': 'amharic',\n",
              " 'ar': 'arabic',\n",
              " 'hy': 'armenian',\n",
              " 'az': 'azerbaijani',\n",
              " 'eu': 'basque',\n",
              " 'be': 'belarusian',\n",
              " 'bn': 'bengali',\n",
              " 'bs': 'bosnian',\n",
              " 'bg': 'bulgarian',\n",
              " 'ca': 'catalan',\n",
              " 'ceb': 'cebuano',\n",
              " 'ny': 'chichewa',\n",
              " 'zh-cn': 'chinese (simplified)',\n",
              " 'zh-tw': 'chinese (traditional)',\n",
              " 'co': 'corsican',\n",
              " 'hr': 'croatian',\n",
              " 'cs': 'czech',\n",
              " 'da': 'danish',\n",
              " 'nl': 'dutch',\n",
              " 'en': 'english',\n",
              " 'eo': 'esperanto',\n",
              " 'et': 'estonian',\n",
              " 'tl': 'filipino',\n",
              " 'fi': 'finnish',\n",
              " 'fr': 'french',\n",
              " 'fy': 'frisian',\n",
              " 'gl': 'galician',\n",
              " 'ka': 'georgian',\n",
              " 'de': 'german',\n",
              " 'el': 'greek',\n",
              " 'gu': 'gujarati',\n",
              " 'ht': 'haitian creole',\n",
              " 'ha': 'hausa',\n",
              " 'haw': 'hawaiian',\n",
              " 'iw': 'hebrew',\n",
              " 'he': 'hebrew',\n",
              " 'hi': 'hindi',\n",
              " 'hmn': 'hmong',\n",
              " 'hu': 'hungarian',\n",
              " 'is': 'icelandic',\n",
              " 'ig': 'igbo',\n",
              " 'id': 'indonesian',\n",
              " 'ga': 'irish',\n",
              " 'it': 'italian',\n",
              " 'ja': 'japanese',\n",
              " 'jw': 'javanese',\n",
              " 'kn': 'kannada',\n",
              " 'kk': 'kazakh',\n",
              " 'km': 'khmer',\n",
              " 'ko': 'korean',\n",
              " 'ku': 'kurdish (kurmanji)',\n",
              " 'ky': 'kyrgyz',\n",
              " 'lo': 'lao',\n",
              " 'la': 'latin',\n",
              " 'lv': 'latvian',\n",
              " 'lt': 'lithuanian',\n",
              " 'lb': 'luxembourgish',\n",
              " 'mk': 'macedonian',\n",
              " 'mg': 'malagasy',\n",
              " 'ms': 'malay',\n",
              " 'ml': 'malayalam',\n",
              " 'mt': 'maltese',\n",
              " 'mi': 'maori',\n",
              " 'mr': 'marathi',\n",
              " 'mn': 'mongolian',\n",
              " 'my': 'myanmar (burmese)',\n",
              " 'ne': 'nepali',\n",
              " 'no': 'norwegian',\n",
              " 'or': 'odia',\n",
              " 'ps': 'pashto',\n",
              " 'fa': 'persian',\n",
              " 'pl': 'polish',\n",
              " 'pt': 'portuguese',\n",
              " 'pa': 'punjabi',\n",
              " 'ro': 'romanian',\n",
              " 'ru': 'russian',\n",
              " 'sm': 'samoan',\n",
              " 'gd': 'scots gaelic',\n",
              " 'sr': 'serbian',\n",
              " 'st': 'sesotho',\n",
              " 'sn': 'shona',\n",
              " 'sd': 'sindhi',\n",
              " 'si': 'sinhala',\n",
              " 'sk': 'slovak',\n",
              " 'sl': 'slovenian',\n",
              " 'so': 'somali',\n",
              " 'es': 'spanish',\n",
              " 'su': 'sundanese',\n",
              " 'sw': 'swahili',\n",
              " 'sv': 'swedish',\n",
              " 'tg': 'tajik',\n",
              " 'ta': 'tamil',\n",
              " 'te': 'telugu',\n",
              " 'th': 'thai',\n",
              " 'tr': 'turkish',\n",
              " 'uk': 'ukrainian',\n",
              " 'ur': 'urdu',\n",
              " 'ug': 'uyghur',\n",
              " 'uz': 'uzbek',\n",
              " 'vi': 'vietnamese',\n",
              " 'cy': 'welsh',\n",
              " 'xh': 'xhosa',\n",
              " 'yi': 'yiddish',\n",
              " 'yo': 'yoruba',\n",
              " 'zu': 'zulu'}"
            ]
          },
          "metadata": {},
          "execution_count": 20
        }
      ]
    },
    {
      "cell_type": "code",
      "source": [
        "from googletrans import Translator\n",
        "translator = Translator()"
      ],
      "metadata": {
        "id": "iwa5shcMpKNP"
      },
      "execution_count": 21,
      "outputs": []
    },
    {
      "source": [
        "from_lang = 'th'\n",
        "to_lang = 'en'\n",
        "text ='คุณเป็นอย่างไร'\n",
        "res = translator.translate(text, src=from_lang, dest=to_lang) # Remove await\n",
        "print(res.text)"
      ],
      "cell_type": "code",
      "metadata": {
        "colab": {
          "base_uri": "https://localhost:8080/"
        },
        "id": "1bypeUXnxgNq",
        "outputId": "2d215f9b-7585-4588-faab-10299d691e9f"
      },
      "execution_count": 25,
      "outputs": [
        {
          "output_type": "stream",
          "name": "stdout",
          "text": [
            "How are you\n"
          ]
        }
      ]
    },
    {
      "cell_type": "code",
      "source": [
        "!pip install langdetect"
      ],
      "metadata": {
        "colab": {
          "base_uri": "https://localhost:8080/"
        },
        "id": "C7ur6-a0wPij",
        "outputId": "c599d1ab-f525-4b25-d805-c9b8e2755563"
      },
      "execution_count": 26,
      "outputs": [
        {
          "output_type": "stream",
          "name": "stdout",
          "text": [
            "Collecting langdetect\n",
            "  Downloading langdetect-1.0.9.tar.gz (981 kB)\n",
            "\u001b[?25l     \u001b[90m━━━━━━━━━━━━━━━━━━━━━━━━━━━━━━━━━━━━━━━━\u001b[0m \u001b[32m0.0/981.5 kB\u001b[0m \u001b[31m?\u001b[0m eta \u001b[36m-:--:--\u001b[0m\r\u001b[2K     \u001b[91m━━━━━━━━━━━━━━━\u001b[0m\u001b[90m╺\u001b[0m\u001b[90m━━━━━━━━━━━━━━━━━━━━━━━━\u001b[0m \u001b[32m368.6/981.5 kB\u001b[0m \u001b[31m11.3 MB/s\u001b[0m eta \u001b[36m0:00:01\u001b[0m\r\u001b[2K     \u001b[90m━━━━━━━━━━━━━━━━━━━━━━━━━━━━━━━━━━━━━━━━\u001b[0m \u001b[32m981.5/981.5 kB\u001b[0m \u001b[31m16.2 MB/s\u001b[0m eta \u001b[36m0:00:00\u001b[0m\n",
            "\u001b[?25h  Preparing metadata (setup.py) ... \u001b[?25l\u001b[?25hdone\n",
            "Requirement already satisfied: six in /usr/local/lib/python3.11/dist-packages (from langdetect) (1.17.0)\n",
            "Building wheels for collected packages: langdetect\n",
            "  Building wheel for langdetect (setup.py) ... \u001b[?25l\u001b[?25hdone\n",
            "  Created wheel for langdetect: filename=langdetect-1.0.9-py3-none-any.whl size=993222 sha256=527d5732a0d727c042562de3b482bc13acd056f79d5d1bf4a9d368f39c0c1ab5\n",
            "  Stored in directory: /root/.cache/pip/wheels/0a/f2/b2/e5ca405801e05eb7c8ed5b3b4bcf1fcabcd6272c167640072e\n",
            "Successfully built langdetect\n",
            "Installing collected packages: langdetect\n",
            "Successfully installed langdetect-1.0.9\n"
          ]
        }
      ]
    },
    {
      "cell_type": "code",
      "source": [
        "from langdetect import detect\n",
        "detect('')"
      ],
      "metadata": {
        "colab": {
          "base_uri": "https://localhost:8080/",
          "height": 35
        },
        "id": "6MPmew5lykL4",
        "outputId": "4952df83-59ef-4acd-fe38-eea858194200"
      },
      "execution_count": 29,
      "outputs": [
        {
          "output_type": "execute_result",
          "data": {
            "text/plain": [
              "'es'"
            ],
            "application/vnd.google.colaboratory.intrinsic+json": {
              "type": "string"
            }
          },
          "metadata": {},
          "execution_count": 29
        }
      ]
    },
    {
      "cell_type": "code",
      "source": [
        "from langdetect import detect_langs\n",
        "detect_langs('คุณเป็นอย่างไร')"
      ],
      "metadata": {
        "colab": {
          "base_uri": "https://localhost:8080/"
        },
        "id": "WC5LX9oKy0Pp",
        "outputId": "a94a5644-f488-41bb-cdf1-c639b3c409ea"
      },
      "execution_count": 31,
      "outputs": [
        {
          "output_type": "execute_result",
          "data": {
            "text/plain": [
              "[th:0.9999999945980056]"
            ]
          },
          "metadata": {},
          "execution_count": 31
        }
      ]
    },
    {
      "cell_type": "code",
      "source": [
        "\n"
      ],
      "metadata": {
        "id": "ig1-KM9DzLzx"
      },
      "execution_count": null,
      "outputs": []
    }
  ]
}