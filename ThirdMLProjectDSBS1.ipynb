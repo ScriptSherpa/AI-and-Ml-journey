{
  "nbformat": 4,
  "nbformat_minor": 0,
  "metadata": {
    "colab": {
      "provenance": [],
      "authorship_tag": "ABX9TyPm3yzsbZEkBsl2VXqax8u/",
      "include_colab_link": true
    },
    "kernelspec": {
      "name": "python3",
      "display_name": "Python 3"
    },
    "language_info": {
      "name": "python"
    }
  },
  "cells": [
    {
      "cell_type": "markdown",
      "metadata": {
        "id": "view-in-github",
        "colab_type": "text"
      },
      "source": [
        "<a href=\"https://colab.research.google.com/github/ScriptSherpa/AI-and-Ml-journey/blob/main/ThirdMLProjectDSBS1.ipynb\" target=\"_parent\"><img src=\"https://colab.research.google.com/assets/colab-badge.svg\" alt=\"Open In Colab\"/></a>"
      ]
    },
    {
      "cell_type": "code",
      "execution_count": null,
      "metadata": {
        "id": "dfISr-mMHIR2"
      },
      "outputs": [],
      "source": [
        "# Supervised Machine Learning\n",
        "# Regression : Multivariate / Multiple Linear Regression\n",
        "# Load The Dataset\n",
        "\n",
        "import pandas as pd\n",
        "data = pd.read_csv('https://raw.githubusercontent.com/yash240990/Python/master/Startups_Data.csv')\n",
        "data.head()"
      ]
    },
    {
      "cell_type": "code",
      "source": [
        "data.info()"
      ],
      "metadata": {
        "id": "NSZbewCBHNox"
      },
      "execution_count": null,
      "outputs": []
    },
    {
      "cell_type": "code",
      "source": [
        "# Extract Independent And Dependent Variable\n",
        "data.columns"
      ],
      "metadata": {
        "id": "ZWCaHDRpHQ1G"
      },
      "execution_count": null,
      "outputs": []
    },
    {
      "cell_type": "code",
      "source": [
        "x = ['R&D Spend', 'Administration', 'Marketing Spend', 'State']\n",
        "x = data[x].values\n",
        "x"
      ],
      "metadata": {
        "id": "_bAoMJXJHTHM"
      },
      "execution_count": null,
      "outputs": []
    },
    {
      "cell_type": "code",
      "source": [
        "y = data.Profit.values\n",
        "y"
      ],
      "metadata": {
        "id": "MhgeQAAhHXu2"
      },
      "execution_count": null,
      "outputs": []
    },
    {
      "cell_type": "code",
      "source": [
        "# LabelEncoder   OneHotEncoder  ColumnTransformer\n",
        "\n",
        "from sklearn.preprocessing import LabelEncoder , OneHotEncoder\n",
        "from sklearn.compose import ColumnTransformer\n",
        "\n",
        "label_encoder = LabelEncoder()\n",
        "\n",
        "x[:,3] = label_encoder.fit_transform(x[:,3])\n",
        "\n",
        "transformer = ColumnTransformer(transformers=[(\"OneHot\",OneHotEncoder(),[3])],\n",
        "                                remainder='passthrough')\n",
        "# remainder = 'passthrough' means do not apply anything on remaining column\n",
        "\n",
        "x = transformer.fit_transform(x)\n",
        "\n",
        "x = x.astype(int)"
      ],
      "metadata": {
        "id": "4at9M7aeH0VK"
      },
      "execution_count": null,
      "outputs": []
    },
    {
      "cell_type": "code",
      "source": [
        "x\n",
        "\n",
        "# california   florida   newyork   r_d     admin    market\n",
        "#  0             0          1      165349   136897  471784\n",
        "#  1             0          0      162597  151377   443898"
      ],
      "metadata": {
        "id": "QJmaA7GWH2zY"
      },
      "execution_count": null,
      "outputs": []
    },
    {
      "cell_type": "code",
      "source": [
        "# Split The Dataset Into Training And Testing Subset\n",
        "from sklearn.model_selection import train_test_split\n",
        "# test_size=0.2 means 20% of the data will be used for Testing and remaining 80% used to training\n",
        "x_train , x_test , y_train , y_test = train_test_split(x,y,test_size=0.2,random_state=0)"
      ],
      "metadata": {
        "id": "uU5lT5K9H5p_"
      },
      "execution_count": null,
      "outputs": []
    },
    {
      "cell_type": "code",
      "source": [
        "print('Original Shape')\n",
        "print(x.shape)\n",
        "print(y.shape)\n",
        "print('After Splitting')\n",
        "print(x_train.shape)\n",
        "print(y_train.shape)\n",
        "print(x_test.shape)\n",
        "print(y_test.shape)"
      ],
      "metadata": {
        "id": "FWmuu-NTH75L"
      },
      "execution_count": null,
      "outputs": []
    },
    {
      "cell_type": "code",
      "source": [
        "# Model Development\n",
        "from sklearn.linear_model import LinearRegression\n",
        "mlr = LinearRegression()\n",
        "mlr.fit(x_train,y_train)"
      ],
      "metadata": {
        "id": "ZiFVEYNYH-Al"
      },
      "execution_count": null,
      "outputs": []
    },
    {
      "cell_type": "code",
      "source": [
        "pred_values = mlr.predict(x_test)\n",
        "pred_values"
      ],
      "metadata": {
        "id": "G84SUol8IAGp"
      },
      "execution_count": null,
      "outputs": []
    },
    {
      "cell_type": "code",
      "source": [
        "from sklearn.metrics import r2_score\n",
        "accuracy = r2_score(y_test,pred_values)\n",
        "print('Accuracy of model :',accuracy*100)"
      ],
      "metadata": {
        "id": "_7UCLoWvIDcp"
      },
      "execution_count": null,
      "outputs": []
    },
    {
      "cell_type": "code",
      "source": [
        "# Final Predictions\n",
        "\n",
        "california = int(input('Is startup is in California ? Enter 1 if yes else 0 : '))\n",
        "florida = int(input('Is startup is in Florida ? Enter 1 if yes else 0 : '))\n",
        "newyork = int(input('Is startup is in NewYork ? Enter 1 if yes else 0 : '))\n",
        "r_d = int(input('Enter Research & Development Spend : '))\n",
        "admin = int(input('Enter Administration Spend : '))\n",
        "market = int(input('Enter Marketing Spend : '))\n",
        "\n",
        "user_input = {'california':california , 'florida':florida , 'newyork':newyork , 'r_d':r_d ,\n",
        "              'admin':admin , 'market':market}\n",
        "\n",
        "user_data = pd.DataFrame(user_input,index=[0])\n",
        "user_data"
      ],
      "metadata": {
        "id": "t6HI9BUpIFZa"
      },
      "execution_count": null,
      "outputs": []
    },
    {
      "cell_type": "code",
      "source": [
        "\n",
        "user_data.values"
      ],
      "metadata": {
        "id": "iXX6KkksIHi8"
      },
      "execution_count": null,
      "outputs": []
    },
    {
      "cell_type": "code",
      "source": [
        "import warnings\n",
        "warnings.filterwarnings('ignore')\n",
        "\n",
        "predict_profit = mlr.predict(user_data)\n",
        "print(\"Profit For Startup Will Be :\",int(predict_profit[0]))"
      ],
      "metadata": {
        "id": "yeq_Em9zIJbV"
      },
      "execution_count": null,
      "outputs": []
    }
  ]
}